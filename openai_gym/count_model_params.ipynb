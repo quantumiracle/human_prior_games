{
 "cells": [
  {
   "cell_type": "code",
   "execution_count": 1,
   "id": "2e645133",
   "metadata": {},
   "outputs": [],
   "source": [
    "import pickle\n",
    "import os\n",
    "from PIL import Image\n",
    "import matplotlib.pyplot as plt"
   ]
  },
  {
   "cell_type": "code",
   "execution_count": 2,
   "id": "5a9b4534",
   "metadata": {},
   "outputs": [
    {
     "name": "stderr",
     "output_type": "stream",
     "text": [
      "/data/zihan/anaconda3/envs/llava/lib/python3.10/site-packages/tqdm/auto.py:21: TqdmWarning: IProgress not found. Please update jupyter and ipywidgets. See https://ipywidgets.readthedocs.io/en/stable/user_install.html\n",
      "  from .autonotebook import tqdm as notebook_tqdm\n"
     ]
    }
   ],
   "source": [
    "from vlm_reward_test import *\n",
    "\n",
    "clip_model_list = ['RN50', 'ViT-B-32', 'ViT-B-16', 'ViT-H-14', 'ViT-L-14', 'ViT-L-14-336', 'ViT-bigG-14']"
   ]
  },
  {
   "cell_type": "code",
   "execution_count": 3,
   "id": "72ffb43d",
   "metadata": {},
   "outputs": [
    {
     "name": "stdout",
     "output_type": "stream",
     "text": [
      "Model RN50 has 102,007,137 trainable parameters\n",
      "Model ViT-B-32 has 151,277,313 trainable parameters\n",
      "Model ViT-B-16 has 149,620,737 trainable parameters\n",
      "Model ViT-H-14 has 986,109,441 trainable parameters\n",
      "Model ViT-L-14 has 427,616,513 trainable parameters\n",
      "Model ViT-L-14-336 has 427,944,193 trainable parameters\n",
      "Model ViT-bigG-14 has 2,539,567,105 trainable parameters\n"
     ]
    }
   ],
   "source": [
    "def count_parameters(model):\n",
    "    return sum(p.numel() for p in model.parameters() if p.requires_grad)\n",
    "\n",
    "for clip_model in clip_model_list:\n",
    "    rewarder = ClipReward(clip_model)\n",
    "    print(f\"Model {clip_model} has {count_parameters(rewarder.model):,} trainable parameters\")\n"
   ]
  },
  {
   "cell_type": "code",
   "execution_count": null,
   "id": "cf26a9d8",
   "metadata": {},
   "outputs": [],
   "source": []
  }
 ],
 "metadata": {
  "kernelspec": {
   "display_name": "Python 3.9.0 ('chat')",
   "language": "python",
   "name": "python3"
  },
  "language_info": {
   "codemirror_mode": {
    "name": "ipython",
    "version": 3
   },
   "file_extension": ".py",
   "mimetype": "text/x-python",
   "name": "python",
   "nbconvert_exporter": "python",
   "pygments_lexer": "ipython3",
   "version": "3.10.13"
  },
  "vscode": {
   "interpreter": {
    "hash": "0cf647e5a23b94a8ba777636c580eadb83ebbb5f5d10e1d66637e4adff90fb8c"
   }
  }
 },
 "nbformat": 4,
 "nbformat_minor": 5
}
