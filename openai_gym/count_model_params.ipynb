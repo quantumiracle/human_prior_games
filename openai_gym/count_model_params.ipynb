{
 "cells": [
  {
   "cell_type": "code",
   "execution_count": 1,
   "id": "2e645133",
   "metadata": {},
   "outputs": [],
   "source": [
    "import pickle\n",
    "import os\n",
    "from PIL import Image\n",
    "import matplotlib.pyplot as plt"
   ]
  },
  {
   "cell_type": "code",
   "execution_count": 38,
   "id": "5a9b4534",
   "metadata": {},
   "outputs": [],
   "source": [
    "from vlm_reward_test import *\n",
    "\n",
    "clip_model_list = ['RN50', 'ViT-B-32', 'ViT-B-16', 'ViT-H-14', 'ViT-L-14', 'ViT-L-14-336', 'ViT-bigG-14']"
   ]
  },
  {
   "cell_type": "code",
   "execution_count": null,
   "id": "72ffb43d",
   "metadata": {},
   "outputs": [],
   "source": [
    "def count_parameters(model):\n",
    "    return sum(p.numel() for p in model.parameters() if p.requires_grad)\n",
    "\n",
    "for clip_model in clip_model_list:\n",
    "    rewarder = ClipReward(clip_model)\n",
    "    print(f\"Model has {count_parameters(rewarder.model):,} trainable parameters\")\n"
   ]
  },
  {
   "cell_type": "code",
   "execution_count": null,
   "id": "cf26a9d8",
   "metadata": {},
   "outputs": [],
   "source": []
  }
 ],
 "metadata": {
  "kernelspec": {
   "display_name": "Python 3.9.0 ('chat')",
   "language": "python",
   "name": "python3"
  },
  "language_info": {
   "codemirror_mode": {
    "name": "ipython",
    "version": 3
   },
   "file_extension": ".py",
   "mimetype": "text/x-python",
   "name": "python",
   "nbconvert_exporter": "python",
   "pygments_lexer": "ipython3",
   "version": "3.10.13"
  },
  "vscode": {
   "interpreter": {
    "hash": "0cf647e5a23b94a8ba777636c580eadb83ebbb5f5d10e1d66637e4adff90fb8c"
   }
  }
 },
 "nbformat": 4,
 "nbformat_minor": 5
}
